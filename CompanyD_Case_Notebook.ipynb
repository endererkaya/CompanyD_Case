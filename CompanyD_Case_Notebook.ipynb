{
 "cells": [
  {
   "cell_type": "markdown",
   "metadata": {},
   "source": [
    "# Company D Applied Data Scientist Test\n",
    "## Ender Erkaya\n",
    "### December 2022"
   ]
  },
  {
   "cell_type": "code",
   "execution_count": 1,
   "metadata": {},
   "outputs": [],
   "source": [
    "import pandas as pd\n",
    "from pandas.plotting import autocorrelation_plot\n",
    "import numpy as np\n",
    "import matplotlib.pyplot as plt\n",
    "import copy\n",
    "from scipy import stats"
   ]
  },
  {
   "cell_type": "code",
   "execution_count": 2,
   "metadata": {},
   "outputs": [],
   "source": [
    "df_part1 = pd.read_csv(\"****.amazonaws.com/****")\n",
    "df_part2 = pd.read_csv(\"****.s3.amazonaws.com/****")\n",
    "df_part3 = pd.read_csv(\"****.s3.amazonaws.com/****")\n",
    "df_part4 = pd.read_csv(\"****.s3.amazonaws.com/****")\n",
    "df_part5 = pd.read_csv(\"****.s3.amazonaws.com/****")\n",
    "\n",
    "df = pd.concat([df_part1, df_part2, df_part3, df_part4, df_part5], axis=0, ignore_index=True) #concatenate dataframe parts"
   ]
  },
  {
   "cell_type": "code",
   "execution_count": 3,
   "metadata": {},
   "outputs": [
    {
     "name": "stdout",
     "output_type": "stream",
     "text": [
      "68.0\n"
     ]
    },
    {
     "data": {
      "text/plain": [
       "(array([ 728.,  816.,  494.,  497.,  345.,  385.,  371.,  226.,  223.,\n",
       "        1265.]),\n",
       " array([  1. ,  16.5,  32. ,  47.5,  63. ,  78.5,  94. , 109.5, 125. ,\n",
       "        140.5, 156. ]),\n",
       " <BarContainer object of 10 artists>)"
      ]
     },
     "execution_count": 3,
     "metadata": {},
     "output_type": "execute_result"
    },
    {
     "data": {
      "image/png": "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\n",
      "text/plain": [
       "<Figure size 432x288 with 1 Axes>"
      ]
     },
     "metadata": {
      "needs_background": "light"
     },
     "output_type": "display_data"
    }
   ],
   "source": [
    "## DATA LENGTH FOR EACH STOCKS\n",
    "num_days   = 20\n",
    "num_data   = df.shape[0]\n",
    "num_columns= df.shape[1]\n",
    "stocks_no  = df.STOCK.unique()\n",
    "num_stocks = stocks_no.size\n",
    "\n",
    "Rindex     = np.arange(7,num_columns-1,2)\n",
    "Vindex     = np.arange(8,num_columns-1,2)\n",
    "# just to observe the number of recordings for each stock\n",
    "#num_record_stocks = []\n",
    "#for k in stocks_no:\n",
    "    #num_record_stocks = np.append(num_record_stocks,sum(df[\"STOCK\"]==k))\n",
    "#plt.plot(num_record_stocks)\n",
    "num_record_stocks = df[\"STOCK\"].value_counts()\n",
    "print(np.median(num_record_stocks))\n",
    "plt.hist(num_record_stocks,21)"
   ]
  },
  {
   "cell_type": "code",
   "execution_count": 4,
   "metadata": {},
   "outputs": [],
   "source": [
    "## CHECK DUPLICATE DROP IF ANY \n",
    "num_duplicated = sum(df.duplicated()==0)\n",
    "#print(num_duplicated)\n",
    "if num_duplicated > 0:\n",
    "    df = df.drop_duplicates()"
   ]
  },
  {
   "cell_type": "code",
   "execution_count": 5,
   "metadata": {},
   "outputs": [
    {
     "name": "stdout",
     "output_type": "stream",
     "text": [
      "False    209749\n",
      "True     208846\n",
      "Name: RET, dtype: int64\n"
     ]
    }
   ],
   "source": [
    "print(df[\"RET\"].value_counts())"
   ]
  },
  {
   "cell_type": "markdown",
   "metadata": {},
   "source": [
    "We have balanced classes, almost equal ratio of observations of RET=TRUE/FALSE classes."
   ]
  },
  {
   "cell_type": "markdown",
   "metadata": {},
   "source": [
    "# THERE IS NANS, IE MISSING VALUES IN RETS AND VOLUMES DATA\n",
    "As a first method, we determine the very unreliable data rows just looking by the numbers of observed data\n",
    "In RET & VOLUME data separately in each row:\n",
    "We eliminate mostly(>threshold) nan valued rows. The threshold can be set as a scale of number of days observed(ie 20). We first reject the row where very few number of data observed. We look RET and VOLUME values separately in order to be sure to get enough number of data from both RET and VOLUME.\n",
    "\n",
    "As a second method, entropy function is suggested to decide the unreliability of VOL & RET data due to that entropy is a measure of uncertainty. Using second method, we reject the unreliable data whose entropy is too low. We use the row who has more probable entropy. \n",
    "\n",
    "After rejecting some data, the other missing values are first interpolated using (first order) linear regression. We fill the missing values by forward(first) and backward interpolation. Linear Interpolation is preferred on account of speed. Otherwise, a second order polynomial or another nonlinear function fits can be applied for interpolation."
   ]
  },
  {
   "cell_type": "markdown",
   "metadata": {},
   "source": [
    "## 1) Eliminating Unreliable Data with a few Observations"
   ]
  },
  {
   "cell_type": "code",
   "execution_count": 6,
   "metadata": {},
   "outputs": [],
   "source": [
    "# Settings\n",
    "threshold_V = num_days*0.1 #reliability threshold, \n",
    "# ie discard if there is (>threshold) #num of missing values in a row\n",
    "threshold_R = num_days*0.1 #reliability threshold, ie discard if there is(>threshold) #num of missing values in a row\n",
    "\n",
    "df_VOLUMES = df.iloc[:,Rindex]\n",
    "df_RETS    = df.iloc[:,Vindex]\n",
    "\n",
    "nan_VOLUMES = df_VOLUMES.isnull()\n",
    "nanV_rows = np.sum(nan_VOLUMES,axis=1)>threshold_V\n",
    "eliminate_mostly_nan_rows_V = nanV_rows[nanV_rows].index\n",
    "\n",
    "nan_RETS = df_RETS.isnull()\n",
    "nanR_rows = np.sum(nan_RETS,axis=1)>threshold_R\n",
    "eliminate_mostly_nan_rows_R = nanR_rows[nanR_rows].index"
   ]
  },
  {
   "cell_type": "code",
   "execution_count": 7,
   "metadata": {},
   "outputs": [],
   "source": [
    "## Eliminating very NANded rows for both RET & VOLUME DATA, a linear interpolation is used\n",
    "# After linear interpolation, ARMA fit can be applied to each RET & VOLUME DATA(Yule Walkers Eq), then\n",
    "# interpolated NAN values can be replaced again using ARMA process model\n",
    "# 2nd option: Polynomial fitting can be applied to each row for VOLUME & RET DATA\n",
    "df_VOLUMES_dropped = df_VOLUMES.drop(eliminate_mostly_nan_rows_V,axis=0,inplace=False) #linear interpolation\n",
    "df_VOLUMES_interpolated = df_VOLUMES_dropped.interpolate(method='linear',limit_direction='forward',axis=1,inplace=False)\n",
    "df_VOLUMES_interpolated.interpolate(method='linear', limit_direction='backward',axis=1,inplace=True)\n",
    "\n",
    "df_RETS_dropped = df_RETS.drop(eliminate_mostly_nan_rows_R,axis=0,inplace=False) #linear interpolation\n",
    "df_RETS_interpolated = df_RETS_dropped.interpolate(method='linear',limit_direction='forward',axis=1,inplace=False)\n",
    "df_RETS_interpolated.interpolate(method='linear', limit_direction='backward',axis=1,inplace=True)"
   ]
  },
  {
   "cell_type": "code",
   "execution_count": 8,
   "metadata": {},
   "outputs": [],
   "source": [
    "df_interpolated_rough = copy.deepcopy(df)\n",
    "\n",
    "dropped_index = np.unique(np.concatenate((eliminate_mostly_nan_rows_V,eliminate_mostly_nan_rows_R)))\n",
    "df_interpolated_rough.iloc[df_VOLUMES_interpolated.index,8:48:2]=df_VOLUMES_interpolated\n",
    "df_interpolated_rough.iloc[df_RETS_interpolated.index,7:47:2]=df_RETS_interpolated\n",
    "df_interpolated_rough.drop(dropped_index,axis=0,inplace=True)\n",
    "\n",
    "# to check if any null\n",
    "# print(df_interpolated.isnull().any())"
   ]
  },
  {
   "cell_type": "markdown",
   "metadata": {
    "tags": []
   },
   "source": [
    "## 2) Eliminating Unreliable Data Using Entropy Function as a Measure of Uncertainty\n",
    "Here entropy is used as a measure of uncertainty to decide unreliability.\n",
    "For any observation(each row denoted as k):\n",
    "$$ E_{k_V} = dataframe_{k_V}^2 $$\n",
    "$$ E_{k_V} = \\frac{E_{k_V}}{sum(E_{k_V})} $$\n",
    "$$ Entropy_V(k) = sum(-E_{{k_V}_i} \\times log(E_{{k_V}_i})) $$ \n",
    "Then we reject the row, where entropy is lower than a threshold."
   ]
  },
  {
   "cell_type": "code",
   "execution_count": 9,
   "metadata": {},
   "outputs": [
    {
     "name": "stdout",
     "output_type": "stream",
     "text": [
      "0\n",
      "20000\n",
      "40000\n",
      "60000\n",
      "80000\n",
      "100000\n",
      "120000\n",
      "140000\n",
      "160000\n",
      "180000\n",
      "200000\n",
      "220000\n",
      "240000\n",
      "260000\n",
      "280000\n",
      "300000\n",
      "320000\n",
      "340000\n",
      "360000\n",
      "380000\n",
      "400000\n"
     ]
    }
   ],
   "source": [
    "##Eliminate Unreliable Data(High Uncertainty) Using Entropy Function\n",
    "from scipy.stats import entropy\n",
    "\n",
    "#Entropy Calculation for VOLUMES\n",
    "entropy_V = np.zeros(num_data)\n",
    "for k in range(num_data):\n",
    "    if k%20000==0:\n",
    "        print(k)\n",
    "    temp = df_VOLUMES.iloc[k,:]\n",
    "    temp2 = temp[~temp.isnull()]**2\n",
    "    temp2 /= sum(temp2)\n",
    "    entropy_V[k] = entropy(temp2)"
   ]
  },
  {
   "cell_type": "code",
   "execution_count": 10,
   "metadata": {},
   "outputs": [
    {
     "name": "stdout",
     "output_type": "stream",
     "text": [
      "0\n",
      "20000\n",
      "40000\n",
      "60000\n",
      "80000\n",
      "100000\n",
      "120000\n",
      "140000\n",
      "160000\n",
      "180000\n",
      "200000\n",
      "220000\n",
      "240000\n",
      "260000\n",
      "280000\n",
      "300000\n",
      "320000\n",
      "340000\n",
      "360000\n",
      "380000\n",
      "400000\n"
     ]
    }
   ],
   "source": [
    "#Entropy Calculation for RETS\n",
    "entropy_R = np.zeros(num_data)\n",
    "for k in range(num_data):\n",
    "    if k%20000==0:\n",
    "        print(k)\n",
    "    temp = df_RETS.iloc[k,:]\n",
    "    temp2 = temp[~temp.isnull()]**2\n",
    "    temp2 /= sum(temp2)\n",
    "    entropy_R[k] = entropy(temp2)"
   ]
  },
  {
   "cell_type": "code",
   "execution_count": 11,
   "metadata": {},
   "outputs": [],
   "source": [
    "#Settings\n",
    "#entropy_reject_threshold = 0.5\n",
    "all_zero_index_V = np.argwhere(np.isnan(entropy_V))#all measured ones are zero\n",
    "all_zero_index_R = np.argwhere(np.isnan(entropy_R))#all measured ones are zero\n",
    "\n",
    "#print(df_VOLUMES.iloc[all_zero_index])\n",
    "entropy_reject_threshold_V = max(0.1,np.mean(entropy_V[~np.isnan(entropy_V)])-0.1*np.std(entropy_V[~np.isnan(entropy_V)]))\n",
    "#print(entropy_reject_threshold)\n",
    "entropy_reject_threshold_R = max(0.1,np.mean(entropy_R[~np.isnan(entropy_R)])-0.1*np.std(entropy_R[~np.isnan(entropy_R)]))\n",
    "\n",
    "#Eliminated Rows\n",
    "eliminate_rows_entropy_V = np.unique(np.concatenate((np.argwhere(entropy_V<entropy_reject_threshold_V),all_zero_index_V)))\n",
    "eliminate_rows_entropy_R = np.unique(np.concatenate((np.argwhere(entropy_R<entropy_reject_threshold_R),all_zero_index_R)))\n",
    "\n",
    "#Eliminate and Interpolate\n",
    "df_VOLUMES_entropy_dropped = df_VOLUMES.drop(eliminate_rows_entropy_V,axis=0,inplace=False)\n",
    "df_VOLUMES_interpolated_entropy = df_VOLUMES_entropy_dropped.interpolate(method='linear',limit_direction='forward',axis=1,inplace=False)\n",
    "df_VOLUMES_interpolated_entropy.interpolate(method='linear', limit_direction='backward',axis=1,inplace=True)\n",
    "\n",
    "df_RETS_entropy_dropped = df_RETS.drop(eliminate_rows_entropy_R,axis=0,inplace=False)\n",
    "df_RETS_interpolated_entropy = df_RETS_entropy_dropped.interpolate(method='linear',limit_direction='forward',axis=1,inplace=False)\n",
    "df_RETS_interpolated_entropy.interpolate(method='linear', limit_direction='backward',axis=1,inplace=True)"
   ]
  },
  {
   "cell_type": "code",
   "execution_count": 12,
   "metadata": {},
   "outputs": [],
   "source": [
    "#Constructed DF after Entropy Elimination & Interpolation\n",
    "df_interpolated_entropy = copy.deepcopy(df)\n",
    "\n",
    "dropped_index = np.unique(np.concatenate((eliminate_rows_entropy_V,eliminate_rows_entropy_R)))\n",
    "df_interpolated_entropy.iloc[df_VOLUMES_interpolated_entropy.index,8:48:2]=df_VOLUMES_interpolated_entropy\n",
    "df_interpolated_entropy.iloc[df_RETS_interpolated_entropy.index,7:47:2]=df_RETS_interpolated_entropy\n",
    "df_interpolated_entropy.drop(dropped_index,axis=0,inplace=True)"
   ]
  },
  {
   "cell_type": "code",
   "execution_count": 13,
   "metadata": {},
   "outputs": [
    {
     "name": "stdout",
     "output_type": "stream",
     "text": [
      "(194056, 48)\n",
      "(316134, 48)\n"
     ]
    }
   ],
   "source": [
    "print(df_interpolated_entropy.shape)\n",
    "print(df_interpolated_rough.shape)"
   ]
  },
  {
   "cell_type": "code",
   "execution_count": 14,
   "metadata": {},
   "outputs": [],
   "source": [
    "# Choose interpolated dataframe\n",
    "df_interpolated = copy.deepcopy(df_interpolated_entropy)"
   ]
  },
  {
   "cell_type": "markdown",
   "metadata": {},
   "source": [
    "# Data Visualization and Interpretation"
   ]
  },
  {
   "cell_type": "code",
   "execution_count": 15,
   "metadata": {},
   "outputs": [
    {
     "name": "stdout",
     "output_type": "stream",
     "text": [
      "[3.6649113  2.83131752 1.74520168 1.30854653 1.08506873 0.95486005\n",
      " 0.83963901 0.76763567 0.72853318 0.66633133 0.63244347 0.6054311\n",
      " 0.58325562 0.56283107 0.46822025 0.48239394 0.49843141 0.54038261\n",
      " 0.51515842 0.51951018]\n",
      "[1.93825299 1.4064607  1.26122653 1.17144633 0.68319799 1.08451831\n",
      " 1.0689341  0.72566963 0.7365455  1.04612334 1.00935963 0.98294103\n",
      " 0.77449694 0.95013596 0.92369601 0.90546975 0.87399653 0.83108469\n",
      " 0.80919684 0.81735026]\n"
     ]
    },
    {
     "data": {
      "text/plain": [
       "<matplotlib.legend.Legend at 0x7f6484a22c70>"
      ]
     },
     "execution_count": 15,
     "metadata": {},
     "output_type": "execute_result"
    },
    {
     "data": {
      "image/png": "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\n",
      "text/plain": [
       "<Figure size 432x288 with 1 Axes>"
      ]
     },
     "metadata": {
      "needs_background": "light"
     },
     "output_type": "display_data"
    }
   ],
   "source": [
    "## Principal Component Analysis\n",
    "from sklearn.preprocessing import StandardScaler as sc\n",
    "df_R = df_interpolated.iloc[:,Rindex] \n",
    "df_R = sc().fit_transform(df_R) # normalizing the features\n",
    "\n",
    "df_V = df_interpolated.iloc[:,Vindex] \n",
    "df_V = sc().fit_transform(df_V) # normalizing the features\n",
    "\n",
    "cov_R = np.cov(df_R.T)\n",
    "cov_V = np.cov(df_V.T)\n",
    "\n",
    "eigenvalues_R, eigenvectors_R = np.linalg.eig(cov_R)\n",
    "eigenvalues_V, eigenvectors_V = np.linalg.eig(cov_V)\n",
    "\n",
    "plt.plot(eigenvalues_R)\n",
    "print(eigenvalues_R)\n",
    "plt.plot(eigenvalues_V)\n",
    "print(eigenvalues_V)\n",
    "plt.legend([\"RETS\", \"VOLUMES\"], loc =\"upper right\")"
   ]
  },
  {
   "cell_type": "code",
   "execution_count": 16,
   "metadata": {},
   "outputs": [
    {
     "data": {
      "text/plain": [
       "<matplotlib.image.AxesImage at 0x7f64848ffcd0>"
      ]
     },
     "execution_count": 16,
     "metadata": {},
     "output_type": "execute_result"
    },
    {
     "data": {
      "image/png": "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\n",
      "text/plain": [
       "<Figure size 432x288 with 1 Axes>"
      ]
     },
     "metadata": {
      "needs_background": "light"
     },
     "output_type": "display_data"
    }
   ],
   "source": [
    "# Correlation Matrix\n",
    "# find correlation matrix of continuous variables\n",
    "df_X = df_interpolated.iloc[:,7:num_columns-1] \n",
    "\n",
    "correlation_matrix_X = df_X.corr()\n",
    "plt.imshow(correlation_matrix_X,cmap='hot',interpolation='nearest')"
   ]
  },
  {
   "cell_type": "markdown",
   "metadata": {},
   "source": [
    "According to correlation table, the data is highly uncorrelated on RETS and VOLUMES."
   ]
  },
  {
   "cell_type": "code",
   "execution_count": 17,
   "metadata": {},
   "outputs": [
    {
     "name": "stdout",
     "output_type": "stream",
     "text": [
      "['ID' 'DATE' 'STOCK' 'INDUSTRY' 'INDUSTRY_GROUP' 'SECTOR' 'SUB_INDUSTRY'\n",
      " 'RET_1' 'VOLUME_1' 'RET_2' 'VOLUME_2' 'RET_3' 'VOLUME_3' 'RET_4'\n",
      " 'VOLUME_4' 'RET_5' 'VOLUME_5' 'RET_6' 'VOLUME_6' 'RET_7' 'VOLUME_7'\n",
      " 'RET_8' 'VOLUME_8' 'RET_9' 'VOLUME_9' 'RET_10' 'VOLUME_10' 'RET_11'\n",
      " 'VOLUME_11' 'RET_12' 'VOLUME_12' 'RET_13' 'VOLUME_13' 'RET_14'\n",
      " 'VOLUME_14' 'RET_15' 'VOLUME_15' 'RET_16' 'VOLUME_16' 'RET_17'\n",
      " 'VOLUME_17' 'RET_18' 'VOLUME_18' 'RET_19' 'VOLUME_19' 'RET_20'\n",
      " 'VOLUME_20' 'RET']\n"
     ]
    },
    {
     "data": {
      "image/png": "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\n",
      "text/plain": [
       "<Figure size 432x288 with 1 Axes>"
      ]
     },
     "metadata": {
      "needs_background": "light"
     },
     "output_type": "display_data"
    },
    {
     "data": {
      "image/png": "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\n",
      "text/plain": [
       "<Figure size 432x288 with 1 Axes>"
      ]
     },
     "metadata": {
      "needs_background": "light"
     },
     "output_type": "display_data"
    },
    {
     "data": {
      "image/png": "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\n",
      "text/plain": [
       "<Figure size 432x288 with 1 Axes>"
      ]
     },
     "metadata": {
      "needs_background": "light"
     },
     "output_type": "display_data"
    },
    {
     "data": {
      "image/png": "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\n",
      "text/plain": [
       "<Figure size 432x288 with 1 Axes>"
      ]
     },
     "metadata": {
      "needs_background": "light"
     },
     "output_type": "display_data"
    },
    {
     "data": {
      "image/png": "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\n",
      "text/plain": [
       "<Figure size 432x288 with 1 Axes>"
      ]
     },
     "metadata": {
      "needs_background": "light"
     },
     "output_type": "display_data"
    }
   ],
   "source": [
    "# Frequency Table\n",
    "print(df.columns.values)\n",
    "df_Q = df_interpolated.iloc[:,1:7]\n",
    "\n",
    "#Industry-Ret Cross Table\n",
    "stock_ret_crosstab = pd.crosstab(index=df_Q.iloc[:,1], \n",
    "                            columns=df.iloc[:,47],\n",
    "                             margins=True)\n",
    "barplot = stock_ret_crosstab.iloc[:-1,:2].plot.bar(rot=0)\n",
    "\n",
    "#Industry-Ret Cross Table\n",
    "industry_ret_crosstab = pd.crosstab(index=df_Q.iloc[:,2], \n",
    "                            columns=df.iloc[:,47],\n",
    "                             margins=True)\n",
    "barplot = industry_ret_crosstab.iloc[:-1,:2].plot.bar(rot=0)\n",
    "\n",
    "#Industry Group-Ret Cross Table\n",
    "industry_group_ret_crosstab = pd.crosstab(index=df_Q.iloc[:,3], \n",
    "                            columns=df.iloc[:,47],\n",
    "                             margins=True)\n",
    "barplot = industry_group_ret_crosstab.iloc[:-1,:2].plot.bar(rot=0)\n",
    "\n",
    "#Sector-Ret Cross Table\n",
    "sector_ret_crosstab = pd.crosstab(index=df_Q.iloc[:,4], \n",
    "                            columns=df.iloc[:,47],\n",
    "                             margins=True)\n",
    "barplot = sector_ret_crosstab.iloc[:-1,:2].plot.bar(rot=0)\n",
    "\n",
    "#Sector-Sub_Industry Cross Table\n",
    "sub_industry_ret_crosstab = pd.crosstab(index=df_Q.iloc[:,5], \n",
    "                            columns=df.iloc[:,47],\n",
    "                             margins=True)\n",
    "barplot = sub_industry_ret_crosstab.iloc[:-1,:2].plot.bar(rot=0)"
   ]
  },
  {
   "cell_type": "markdown",
   "metadata": {},
   "source": [
    "According to analysis for categorical data, \"TRUE\" and \"FALSE\" class are distributed almost equally among all industry, industry group, sub_industry and sector. While the whole data-observation number differs very hugely between the stock, sector, industry, industry_group, sub_industry. This brings the performance accuracy differences between the groups. We may predict more accurately for the groups with higher number of observations. If we need to reduce the dataset, we can resample with equal number of observations for each stock. This reduction strategy will be further evaluated according to performance.\n",
    "\n",
    "Sub_industry needs to be analyzed."
   ]
  },
  {
   "cell_type": "code",
   "execution_count": 18,
   "metadata": {},
   "outputs": [
    {
     "data": {
      "text/plain": [
       "[<matplotlib.lines.Line2D at 0x7f6437b906a0>]"
      ]
     },
     "execution_count": 18,
     "metadata": {},
     "output_type": "execute_result"
    },
    {
     "data": {
      "image/png": "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\n",
      "text/plain": [
       "<Figure size 432x288 with 1 Axes>"
      ]
     },
     "metadata": {
      "needs_background": "light"
     },
     "output_type": "display_data"
    },
    {
     "data": {
      "image/png": "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\n",
      "text/plain": [
       "<Figure size 432x288 with 1 Axes>"
      ]
     },
     "metadata": {
      "needs_background": "light"
     },
     "output_type": "display_data"
    }
   ],
   "source": [
    "sub_industry_ret_crosstab = np.array(sub_industry_ret_crosstab)\n",
    "temp_sum = sub_industry_ret_crosstab[:,2].reshape((sub_industry_ret_crosstab.shape[0],1))\n",
    "sub_industry_freq = np.divide(sub_industry_ret_crosstab,temp_sum)\n",
    "plt.plot(sub_industry_freq[:-1,0])\n",
    "plt.figure()\n",
    "plt.plot(temp_sum[:-1])"
   ]
  },
  {
   "cell_type": "markdown",
   "metadata": {},
   "source": [
    "According to analyses, the data is highly unbalanced between industry, subindustry, sector, industry_group, industry. The classes are balanced."
   ]
  },
  {
   "cell_type": "code",
   "execution_count": 19,
   "metadata": {},
   "outputs": [
    {
     "name": "stdout",
     "output_type": "stream",
     "text": [
      "[104 108]\n"
     ]
    }
   ],
   "source": [
    "med_subindustry = np.median(temp_sum[:-1,0])\n",
    "std_subindustry = np.std(temp_sum[:-1,0])\n",
    "sub_industry_os = np.argwhere(temp_sum[:-1,0]>med_subindustry+3*std_subindustry).reshape((-1,))\n",
    "print(sub_industry_os)"
   ]
  },
  {
   "cell_type": "code",
   "execution_count": 20,
   "metadata": {},
   "outputs": [],
   "source": [
    "dfnew = df_interpolated.loc[(df_interpolated['SUB_INDUSTRY'].isin(sub_industry_os))]"
   ]
  },
  {
   "cell_type": "markdown",
   "metadata": {},
   "source": [
    "According to the data, for example SUB_INDUSTRY 108 with SECTOR 7, INDUSTRY_GROUP 16, INDUSTRY 46 is oversampled. We downsample this observations among with other high numbered groups, in order to reduce the unbiased performance toward this feature."
   ]
  },
  {
   "cell_type": "code",
   "execution_count": 21,
   "metadata": {},
   "outputs": [],
   "source": [
    "# Reduce & Downsample Random from Oversampled Subindustry Sector\n",
    "dfnew_temp = dfnew.sample(dfnew.shape[0]-int(med_subindustry+3*std_subindustry))\n",
    "sub_industry_oversampled_index = np.array(dfnew_temp[\"ID\"])\n",
    "\n",
    "# Drop Rows-Downsample\n",
    "df_interpolated_dropped = df_interpolated.drop(sub_industry_oversampled_index,axis=0)"
   ]
  },
  {
   "cell_type": "code",
   "execution_count": 22,
   "metadata": {},
   "outputs": [],
   "source": [
    "import warnings\n",
    "def subsample_per_stock(df,Nstock):\n",
    "    warnings.simplefilter(action='ignore', category=FutureWarning)\n",
    "    N = df.shape[0]\n",
    "    num_record_stocks = df[\"STOCK\"].value_counts()\n",
    "    indices = num_record_stocks[num_record_stocks > Nstock].index\n",
    "    #Resample new Dataframe from the Existing\n",
    "    newdf = pd.DataFrame()\n",
    "    counter = 0\n",
    "    for k in indices:\n",
    "        temp = df[df[\"STOCK\"]==k]\n",
    "        newdf = newdf.append(temp.sample(n=Nstock))\n",
    "        counter = counter + 1\n",
    "        if counter % 100 == 0:\n",
    "            print(counter)\n",
    "    return newdf"
   ]
  },
  {
   "cell_type": "code",
   "execution_count": 23,
   "metadata": {},
   "outputs": [
    {
     "name": "stdout",
     "output_type": "stream",
     "text": [
      "100\n",
      "200\n",
      "300\n",
      "400\n",
      "500\n",
      "600\n",
      "700\n",
      "800\n",
      "900\n",
      "1000\n",
      "1100\n",
      "1200\n",
      "1300\n",
      "1400\n",
      "1500\n",
      "1600\n",
      "1700\n",
      "1800\n",
      "1900\n",
      "2000\n",
      "2100\n",
      "2200\n",
      "2300\n",
      "2400\n",
      "2500\n",
      "2600\n",
      "2700\n",
      "2800\n",
      "2900\n",
      "3000\n",
      "3100\n",
      "3200\n",
      "3300\n",
      "3400\n",
      "3500\n",
      "3600\n",
      "3700\n",
      "3800\n"
     ]
    }
   ],
   "source": [
    "df_subsampled = subsample_per_stock(df_interpolated_dropped,10)"
   ]
  },
  {
   "cell_type": "markdown",
   "metadata": {},
   "source": [
    "# Preprocessing for Training"
   ]
  },
  {
   "cell_type": "code",
   "execution_count": 24,
   "metadata": {},
   "outputs": [],
   "source": [
    "#Settings\n",
    "#Choose one of each\n",
    "df_training_sub = df_subsampled\n",
    "df_training_whole = copy.deepcopy(df_interpolated_dropped)"
   ]
  },
  {
   "cell_type": "code",
   "execution_count": 25,
   "metadata": {},
   "outputs": [],
   "source": [
    "import torch\n",
    "import torch.nn as nn\n",
    "import torch.optim as optim\n",
    "from torch.utils.data import TensorDataset, DataLoader\n",
    "from torch.utils.data import sampler\n",
    "import torch.nn.functional as F\n",
    "\n",
    "import torchvision\n",
    "import torchvision.datasets as dset\n",
    "import torchvision.transforms as T\n",
    "\n",
    "from sklearn.model_selection import train_test_split\n",
    "from sklearn.decomposition import PCA\n",
    "from sklearn.preprocessing import StandardScaler"
   ]
  },
  {
   "cell_type": "code",
   "execution_count": 26,
   "metadata": {},
   "outputs": [],
   "source": [
    "labels   = df_training_whole[\"RET\"]\n",
    "features = df_training_whole.iloc[:,1:-1] #FROM INDUSTRY(DATE & STOCK NOT INCLUDED)\n",
    "\n",
    "X = copy.deepcopy(features)\n",
    "y = np.ravel(labels)\n",
    "\n",
    "## Principal Component Analysis\n",
    "#Apply on Whole Data\n",
    "explained_total_variance_threshold = 0.98\n",
    "\n",
    "sc = StandardScaler()\n",
    "X_scaled = sc.fit_transform(np.array(X)) #standardization\n",
    "# PCA\n",
    "pca = PCA() \n",
    "pca.fit(X_scaled)\n",
    "temp = np.cumsum(pca.explained_variance_ratio_)\n",
    "num_components = sum(temp<explained_total_variance_threshold)\n",
    "\n",
    "pca = PCA(n_components=num_components) \n",
    "pca.fit(X_scaled)\n",
    "X_pca = pca.transform(X_scaled)\n",
    "\n",
    "#Use Mask if Needed\n",
    "#It has been used to check the correctness of the architecture\n",
    "#Results overfitting in small dataset ==> model implementation works\n",
    "\n",
    "#mask = list(range(1000))#to check overfitting in small data set\n",
    "#X_pca_mask = X_pca[mask,:]\n",
    "#y_mask     = y[mask]"
   ]
  },
  {
   "cell_type": "markdown",
   "metadata": {},
   "source": [
    "PCA is applied for dimensionality reduction, if needed. At first, the threshold is kept very low but to be adjusted accordingly, if needed(for speed or etc). \n",
    "\\\n",
    "For the purpose, we kept 0.99 of the total variance by setting as:\n",
    "\n",
    "eplained_total_variance_threshold = 0.99"
   ]
  },
  {
   "cell_type": "markdown",
   "metadata": {},
   "source": [
    "In order to test neural network architecture just use mask and use: \\\n",
    "train_test_split(X_pca_mask, y_mask...) instead\n",
    "train_test_split(X_pca, y...)"
   ]
  },
  {
   "cell_type": "markdown",
   "metadata": {},
   "source": [
    "# Neural Network Classifier"
   ]
  },
  {
   "cell_type": "code",
   "execution_count": 27,
   "metadata": {},
   "outputs": [],
   "source": [
    "def flatten(x):\n",
    "    N = x.shape[0] # read in N, C, H, W\n",
    "    return x.view(N, -1)  # \"flatten\" the C * H * W values into a single vector per image\n",
    "\n",
    "class Flatten(nn.Module): # just to use cnn etc if necessary\n",
    "    def forward(self, x):\n",
    "        return flatten(x)"
   ]
  },
  {
   "cell_type": "code",
   "execution_count": 28,
   "metadata": {},
   "outputs": [],
   "source": [
    "# Adapted from Stanford cs231n Homeworks & Lectures\n",
    "# Ender Erkaya, November, 2022\n",
    "# Function to Apply Training\n",
    "def train_part(model, optimizer, loader, epochs=1):\n",
    "    train_accuracies = []\n",
    "    val_accuracies   = []\n",
    "    losses           = []\n",
    "    for epoch in range(epochs):# for each epoch\n",
    "        print(\"epoch:\",epoch)\n",
    "        for t, (x, y) in enumerate(loader):\n",
    "            model.train()  # put model to training mode\n",
    "\n",
    "            pred_y = model(x)\n",
    "            #KL Divergence(Binary Cross Entropy Function)\n",
    "            loss = F.binary_cross_entropy(pred_y, y.reshape(-1,1))\n",
    "            \n",
    "            optimizer.zero_grad()\n",
    "            loss.backward()\n",
    "\n",
    "            optimizer.step()\n",
    "            if t % print_every == 0:\n",
    "                #print('Iteration %d, loss = %.4f' % (t, loss.item()))\n",
    "                losses = np.append(losses, loss.item())\n",
    "                #print('Checking accuracy on train set')\n",
    "                acc_train = check_accuracy_part(X_train_tensor,y_train_tensor,model)\n",
    "\n",
    "                #print('Checking accuracy on validation set')\n",
    "                acc_val = check_accuracy_part(X_val_tensor,y_val_tensor,model)\n",
    "                train_accuracies = np.append(train_accuracies,acc_train)\n",
    "                val_accuracies   = np.append(val_accuracies,acc_val)\n",
    "                \n",
    "    return train_accuracies, val_accuracies, losses\n",
    "\n",
    "# Function to Check Accuracy\n",
    "def check_accuracy_part(Xdata,ydata,model):\n",
    "    pred_y = model(Xdata)>0.5\n",
    "    num_correct = (pred_y == ydata.reshape(-1,1)).sum()\n",
    "    num_samples = ydata.shape[0]\n",
    "    acc = float(num_correct) / num_samples\n",
    "    #print('Got %d / %d correct (%.2f)' % (num_correct, num_samples, 100 * acc))\n",
    "    return acc"
   ]
  },
  {
   "cell_type": "markdown",
   "metadata": {},
   "source": [
    "### 5-Layer Neural Network\n",
    "#Settings\n",
    "hidden_size1 = 20\n",
    "hidden_size2 = 15\n",
    "learning_rate = 1e-3\n",
    "batch_size = 128 \n",
    "l2_reg     = 1e-6\n",
    "\n",
    "num_out    = 16\n",
    "alpha      = 1e-2\n",
    "print_every = 300\n",
    "\n",
    "#5Layer Neural Network\n",
    "model_nn5 = nn.Sequential(Flatten(),\n",
    "    nn.Linear(num_input, hidden_size1),\n",
    "    nn.LeakyReLU(alpha),nn.BatchNorm1d(hidden_size1),\n",
    "    nn.Linear(hidden_size1, hidden_size1),\n",
    "    nn.LeakyReLU(alpha),nn.BatchNorm1d(hidden_size1),\n",
    "    nn.Linear(hidden_size1, hidden_size2),\n",
    "    nn.LeakyReLU(alpha),nn.BatchNorm1d(hidden_size2),\n",
    "    nn.Linear(hidden_size2, hidden_size2),\n",
    "    nn.LeakyReLU(alpha),nn.BatchNorm1d(hidden_size2),\n",
    "    nn.Linear(hidden_size2, num_out),\n",
    "    nn.Sigmoid()\n",
    ")\n",
    "#Set Optimizer\n",
    "nn5_optimizer = optim.Adam(model_nn5.parameters(),learning_rate,betas=(0.9,0.999),eps=1e-08,weight_decay=l2_reg,amsgrad=False)"
   ]
  },
  {
   "cell_type": "code",
   "execution_count": 29,
   "metadata": {},
   "outputs": [],
   "source": [
    "#Train Test Validation Split\n",
    "#mask = list(range(1000))#to check overfitting in small data set\n",
    "#X_pca_mask = X_pca[mask,:]\n",
    "#y_mask     = y[mask]\n",
    "sub_labels   = df_training_sub[\"RET\"]\n",
    "sub_features = df_training_sub.iloc[:,1:-1] #FROM INDUSTRY(DATE & STOCK NOT INCLUDED)\n",
    "\n",
    "X_sub = copy.deepcopy(sub_features)\n",
    "y_sub = np.ravel(sub_labels)\n",
    "X_sub = sc.transform(np.array(X_sub))\n",
    "X_sub_pca = pca.transform(X_sub)"
   ]
  },
  {
   "cell_type": "markdown",
   "metadata": {},
   "source": [
    "train_acc,val_acc,losses = train_part(model_nn5,nn5_optimizer,epochs=10)\n",
    "print(train_acc)"
   ]
  },
  {
   "cell_type": "markdown",
   "metadata": {},
   "source": [
    "###Plot the loss function and train / validation accuracies\n",
    "plt.subplot(2, 1, 1)\n",
    "plt.plot(losses)\n",
    "plt.title('Loss history')\n",
    "plt.xlabel('Iteration')\n",
    "plt.ylabel('Loss')\n",
    "\n",
    "plt.subplot(2, 1, 2)\n",
    "plt.plot(train_acc, label='train')\n",
    "plt.plot(val_acc, label='val')\n",
    "plt.title('Classification accuracy history')\n",
    "plt.xlabel('print every')\n",
    "plt.ylabel('Classification accuracy')\n",
    "plt.legend()\n",
    "plt.show()"
   ]
  },
  {
   "cell_type": "markdown",
   "metadata": {},
   "source": [
    "The network architecture is tested by using masked small data set. It results overfitting with small data set. Then, I decided that neural network model works correctly."
   ]
  },
  {
   "cell_type": "markdown",
   "metadata": {},
   "source": [
    "## Hyperparameter Tuning for Neural Network Classifier"
   ]
  },
  {
   "cell_type": "markdown",
   "metadata": {},
   "source": [
    "For hyperparameter tuning, a subsampled data is created and can be used. "
   ]
  },
  {
   "cell_type": "code",
   "execution_count": 30,
   "metadata": {},
   "outputs": [],
   "source": [
    "X_subtrain, X_subtest, y_subtrain, y_subtest = train_test_split(X_sub_pca, y_sub, test_size=0.2, random_state=35)\n",
    "X_subtrain, X_subval, y_subtrain, y_subval = train_test_split(X_subtrain, y_subtrain, test_size=0.25, random_state=35)\n",
    "\n",
    "num_subtrain = X_subtrain.shape[0]\n",
    "num_subvalid = X_subval.shape[0]\n",
    "num_subtest  = X_subtest.shape[0]\n",
    "num_subinput = X_sub_pca.shape[1]"
   ]
  },
  {
   "cell_type": "code",
   "execution_count": 31,
   "metadata": {},
   "outputs": [],
   "source": [
    "X_subtrain_tensor = torch.from_numpy(X_subtrain.astype(np.float32))\n",
    "y_subtrain_tensor = torch.from_numpy(y_subtrain.astype(np.float32))\n",
    "X_subval_tensor = torch.from_numpy(X_subval.astype(np.float32))\n",
    "y_subval_tensor = torch.from_numpy(y_subval.astype(np.float32))\n",
    "X_subtest_tensor = torch.from_numpy(X_subtest.astype(np.float32))\n",
    "y_subtest_tensor = torch.from_numpy(y_subtest.astype(np.float32))\n",
    "\n",
    "# Dataset and Loaders for Pytorch Train\n",
    "batch_size=256\n",
    "dataset_subtrain = TensorDataset(X_subtrain_tensor,y_subtrain_tensor)\n",
    "loader_subtrain  = DataLoader(dataset_subtrain,batch_size=batch_size,sampler=sampler.SubsetRandomSampler(range(num_subtrain)))\n",
    "\n",
    "dataset_subval = TensorDataset(X_subval_tensor,y_subval_tensor)\n",
    "loader_subval  = DataLoader(dataset_subval)\n",
    "\n",
    "dataset_subtest = TensorDataset(X_subtest_tensor,y_subtest_tensor)\n",
    "loader_subtest  = DataLoader(dataset_subtest)"
   ]
  },
  {
   "cell_type": "code",
   "execution_count": 32,
   "metadata": {},
   "outputs": [],
   "source": [
    "X_train, X_test, y_train, y_test = train_test_split(X_pca, y, test_size=0.2, random_state=35)\n",
    "X_train, X_val, y_train, y_val = train_test_split(X_train, y_train, test_size=0.25, random_state=35)\n",
    "\n",
    "num_train = X_train.shape[0]\n",
    "num_valid = X_val.shape[0]\n",
    "num_test  = X_test.shape[0]\n",
    "num_input = X_pca.shape[1]\n",
    "\n",
    "X_train_tensor = torch.from_numpy(X_train.astype(np.float32))\n",
    "y_train_tensor = torch.from_numpy(y_train.astype(np.float32))\n",
    "X_val_tensor = torch.from_numpy(X_val.astype(np.float32))\n",
    "y_val_tensor = torch.from_numpy(y_val.astype(np.float32))\n",
    "X_test_tensor = torch.from_numpy(X_test.astype(np.float32))\n",
    "y_test_tensor = torch.from_numpy(y_test.astype(np.float32))\n",
    "\n",
    "# Dataset and Loaders for Pytorch Train\n",
    "dataset_train = TensorDataset(X_train_tensor,y_train_tensor)\n",
    "loader_train  = DataLoader(dataset_train,batch_size=batch_size,sampler=sampler.SubsetRandomSampler(range(num_train)))\n",
    "\n",
    "dataset_val = TensorDataset(X_val_tensor,y_val_tensor)\n",
    "loader_val  = DataLoader(dataset_val)\n",
    "\n",
    "dataset_test = TensorDataset(X_test_tensor,y_test_tensor)\n",
    "loader_test  = DataLoader(dataset_test)"
   ]
  },
  {
   "cell_type": "code",
   "execution_count": null,
   "metadata": {},
   "outputs": [],
   "source": [
    "#HyperParameter Tuning\n",
    "#Grid Search\n",
    "\n",
    "#Settings\n",
    "hp_train_X = X_train_tensor \n",
    "hp_train_y = y_train_tensor\n",
    "num_hptrain = num_train\n",
    "\n",
    "hidden_sizes = [30]\n",
    "learning_rates = [3e-1,1e-1,3e-2,1e-2]\n",
    "l2_regs     =[1e-3,1e-4,1e-5] #regularization parameter\n",
    "batch_sizes = [256]\n",
    "alpha = 1e-2\n",
    "num_out = 1\n",
    "\n",
    "best=-1\n",
    "k=0\n",
    "for hidden_size in hidden_sizes:\n",
    "    for learning_rate in learning_rates:\n",
    "        for l2_reg in l2_regs:\n",
    "            for batch_size in batch_sizes:\n",
    "                k = k+1\n",
    "                print(\"GRID SEARCH NO:\", k)\n",
    "                print_every = 50\n",
    "                model_nn3 = nn.Sequential(Flatten(),\n",
    "                            nn.Linear(num_input, hidden_size),\n",
    "                            nn.LeakyReLU(alpha),nn.BatchNorm1d(hidden_size),\n",
    "                            nn.Linear(hidden_size, hidden_size),\n",
    "                            nn.LeakyReLU(alpha),nn.BatchNorm1d(hidden_size),\n",
    "                            nn.Linear(hidden_size, num_out),\n",
    "                            nn.Sigmoid()\n",
    "                        )\n",
    "                #nn3_optimizer = optim.Adam(model_nn3.parameters(),lr=learning_rate,betas=(0.9,0.999),eps=1e-08,weight_decay=l2_reg,amsgrad=False)\n",
    "                nn3_optimizer = optim.SGD(model_nn3.parameters(), lr=learning_rate, momentum=0.9, nesterov=True, weight_decay=l2_reg)\n",
    "                \n",
    "                dataset_hptrain = TensorDataset(hp_train_X,hp_train_y)\n",
    "                loader_hptrain  = DataLoader(dataset_hptrain,batch_size=batch_size,sampler=sampler.SubsetRandomSampler(range(num_hptrain)))\n",
    "                train_acc,val_acc,losses = train_part(model_nn3,nn3_optimizer,loader_hptrain,epochs=30)\n",
    "                if val_acc[-1]>best:\n",
    "                    best=val_acc[-1]\n",
    "                    print(\"Train Acc:\",train_acc[-1])\n",
    "                    print(\"Valid Acc:\",val_acc[-1])\n",
    "                    best_net = model_nn3\n",
    "                    best_optim = nn3_optimizer\n",
    "                    best_params = [hidden_size, learning_rate, l2_reg, batch_size]\n",
    "                    print(\"Best parameters now are\", hidden_size, learning_rate, l2_reg, batch_size)                                        "
   ]
  },
  {
   "cell_type": "code",
   "execution_count": 33,
   "metadata": {},
   "outputs": [
    {
     "name": "stdout",
     "output_type": "stream",
     "text": [
      "Training with Best Parameters: [30, 0.1, 0.0001, 256]\n",
      "epoch: 0\n",
      "epoch: 1\n",
      "epoch: 2\n",
      "epoch: 3\n",
      "epoch: 4\n",
      "epoch: 5\n",
      "epoch: 6\n",
      "epoch: 7\n",
      "epoch: 8\n",
      "epoch: 9\n",
      "epoch: 10\n",
      "epoch: 11\n",
      "epoch: 12\n",
      "epoch: 13\n",
      "epoch: 14\n",
      "epoch: 15\n",
      "epoch: 16\n",
      "epoch: 17\n",
      "epoch: 18\n",
      "epoch: 19\n",
      "epoch: 20\n",
      "epoch: 21\n",
      "epoch: 22\n",
      "epoch: 23\n",
      "epoch: 24\n",
      "epoch: 25\n",
      "epoch: 26\n",
      "epoch: 27\n",
      "epoch: 28\n",
      "epoch: 29\n",
      "epoch: 30\n",
      "epoch: 31\n",
      "epoch: 32\n",
      "epoch: 33\n",
      "epoch: 34\n",
      "epoch: 35\n",
      "epoch: 36\n",
      "epoch: 37\n",
      "epoch: 38\n",
      "epoch: 39\n",
      "epoch: 40\n",
      "epoch: 41\n",
      "epoch: 42\n",
      "epoch: 43\n",
      "epoch: 44\n",
      "epoch: 45\n",
      "epoch: 46\n",
      "epoch: 47\n",
      "epoch: 48\n",
      "epoch: 49\n",
      "Current Validation Accuracy 0.5431822003026396\n",
      "Current Test Accuracy 0.5388667824917335\n"
     ]
    }
   ],
   "source": [
    "#Best Params for n=20, [20, 0.0003, 0.1, 256] subsampled trained\n",
    "best_params = [30, 0.1, 0.0001, 256]\n",
    "#[20, 0.01, 0, 256]\n",
    "#[40, 0.1, 1e-6, 256]\n",
    "# Retrain set and Learn with Best Model\n",
    "# We use full data to further train the selected model\n",
    "alpha = 1e-2\n",
    "num_out = 1\n",
    "\n",
    "print_every = 50\n",
    "print(\"Training with Best Parameters:\",best_params)\n",
    "best_hidden_size, best_learning_rate, best_l2_reg, best_batch_size = best_params\n",
    "best_model_nn3 = nn.Sequential(Flatten(),\n",
    "                 nn.Linear(num_input, best_hidden_size),\n",
    "                 nn.LeakyReLU(alpha),nn.BatchNorm1d(best_hidden_size),\n",
    "                 nn.Linear(best_hidden_size, best_hidden_size),\n",
    "                 nn.LeakyReLU(alpha),nn.BatchNorm1d(best_hidden_size),\n",
    "                 nn.Linear(best_hidden_size, num_out),\n",
    "                 nn.Sigmoid()\n",
    "                )\n",
    "#best_optimizer = optim.Adam(best_model_nn3.parameters(),lr=best_learning_rate,betas=(0.9,0.999),eps=1e-08,weight_decay=best_l2_reg,amsgrad=False)\n",
    "best_optimizer = optim.SGD(best_model_nn3.parameters(), lr=best_learning_rate, momentum=0.9, nesterov=True, weight_decay=best_l2_reg)\n",
    "\n",
    "loader_train  = DataLoader(dataset_train,batch_size=best_batch_size,sampler=sampler.SubsetRandomSampler(range(num_train)))                    \n",
    "best_train_acc,best_val_acc,best_losses = train_part(best_model_nn3,best_optimizer,loader_train,epochs=50)\n",
    "print(\"Current Validation Accuracy\",check_accuracy_part(X_val_tensor,y_val_tensor,best_model_nn3))\n",
    "print(\"Current Test Accuracy\",check_accuracy_part(X_test_tensor,y_test_tensor,best_model_nn3))"
   ]
  },
  {
   "cell_type": "code",
   "execution_count": 34,
   "metadata": {},
   "outputs": [],
   "source": [
    "best_nn3_torch_test_acc = check_accuracy_part(X_test_tensor,y_test_tensor,best_model_nn3)"
   ]
  },
  {
   "cell_type": "code",
   "execution_count": 35,
   "metadata": {},
   "outputs": [
    {
     "name": "stdout",
     "output_type": "stream",
     "text": [
      "Current Validation Accuracy 0.5431822003026396\n",
      "Current Test Accuracy 0.5388667824917335\n"
     ]
    }
   ],
   "source": [
    "print(\"Current Validation Accuracy\",check_accuracy_part(X_val_tensor,y_val_tensor,best_model_nn3))\n",
    "print(\"Current Test Accuracy\",check_accuracy_part(X_test_tensor,y_test_tensor,best_model_nn3))\n",
    "X_pca_torch = torch.from_numpy(X_pca.astype(np.float32))\n",
    "y_torch = torch.from_numpy(y.astype(np.float32))\n",
    "\n",
    "check_accuracy_part(X_pca_torch,y_torch,best_model_nn3)\n",
    "\n",
    "best_nn3_torch_model = best_model_nn3"
   ]
  },
  {
   "cell_type": "code",
   "execution_count": 36,
   "metadata": {},
   "outputs": [
    {
     "data": {
      "image/png": "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\n",
      "text/plain": [
       "<Figure size 432x288 with 2 Axes>"
      ]
     },
     "metadata": {
      "needs_background": "light"
     },
     "output_type": "display_data"
    }
   ],
   "source": [
    "# Plot the loss function and train / validation accuracies\n",
    "plt.subplot(2, 1, 1)\n",
    "plt.plot(best_losses)\n",
    "plt.title('Loss history')\n",
    "plt.xlabel('Iteration')\n",
    "plt.ylabel('Loss')\n",
    "\n",
    "plt.subplot(2, 1, 2)\n",
    "plt.plot(best_train_acc, label='train')\n",
    "plt.plot(best_val_acc, label='val')\n",
    "plt.title('Classification accuracy history')\n",
    "plt.xlabel('print every')\n",
    "plt.ylabel('Classification accuracy')\n",
    "plt.legend()\n",
    "plt.show()"
   ]
  },
  {
   "cell_type": "code",
   "execution_count": 37,
   "metadata": {},
   "outputs": [],
   "source": [
    "from sklearn.linear_model import LogisticRegression\n",
    "from sklearn.neighbors import KNeighborsClassifier\n",
    "from sklearn.svm import SVC\n",
    "from sklearn.linear_model import SGDClassifier\n",
    "from sklearn.model_selection import GridSearchCV\n",
    "from sklearn.ensemble import RandomForestClassifier\n",
    "from sklearn.neural_network import MLPClassifier\n",
    "from sklearn.naive_bayes import GaussianNB\n",
    "\n",
    "from sklearn.metrics import classification_report\n",
    "from sklearn.metrics import confusion_matrix\n",
    "from sklearn.metrics import accuracy_score\n",
    "\n",
    "def check_accuracy(Xdata,ydata,model):\n",
    "    \n",
    "    y_pred = model.predict(Xdata)\n",
    "    num_correct = sum(y_pred == ydata)   \n",
    "    acc = num_correct / ydata.shape[0]\n",
    "    return acc"
   ]
  },
  {
   "cell_type": "code",
   "execution_count": 54,
   "metadata": {},
   "outputs": [
    {
     "name": "stdout",
     "output_type": "stream",
     "text": [
      "Number of train observations: 107058\n"
     ]
    }
   ],
   "source": [
    "#Since it takes too long at the end, I subsample the data to train classifiers\n",
    "#and check implementation results\n",
    "print(\"Number of train observations:\",X_train.shape[0])\n",
    "Nsubtrain = X_train.shape[0]\n",
    "\n",
    "mask = np.random.randint(0,X_train.shape[0],Nsubtrain)\n",
    "Xsubtrain = X_train[mask,:]\n",
    "ysubtrain = y_train[mask]"
   ]
  },
  {
   "cell_type": "markdown",
   "metadata": {},
   "source": [
    "# k-Nearest Neighbor Classifier"
   ]
  },
  {
   "cell_type": "code",
   "execution_count": 55,
   "metadata": {},
   "outputs": [],
   "source": [
    "#Split Data\n",
    "#X_train, X_test, y_train, y_test = train_test_split(X_pca, y, test_size=0.3, random_state=35)\n",
    "\n",
    "#num_train = X_train.shape[0]\n",
    "#num_valid = X_val.shape[0]\n",
    "#num_test  = X_test.shape[0]\n",
    "#num_input = X_pca.shape[1]"
   ]
  },
  {
   "cell_type": "code",
   "execution_count": 56,
   "metadata": {},
   "outputs": [
    {
     "name": "stdout",
     "output_type": "stream",
     "text": [
      "Fitting 5 folds for each of 2 candidates, totalling 10 fits\n",
      "[CV 1/5; 1/2] START n_neighbors=11..............................................\n",
      "[CV 1/5; 1/2] END ...............n_neighbors=11;, score=0.610 total time=  10.5s\n",
      "[CV 2/5; 1/2] START n_neighbors=11..............................................\n",
      "[CV 2/5; 1/2] END ...............n_neighbors=11;, score=0.605 total time=  10.5s\n",
      "[CV 3/5; 1/2] START n_neighbors=11..............................................\n",
      "[CV 3/5; 1/2] END ...............n_neighbors=11;, score=0.605 total time=  10.5s\n",
      "[CV 4/5; 1/2] START n_neighbors=11..............................................\n",
      "[CV 4/5; 1/2] END ...............n_neighbors=11;, score=0.611 total time=  10.5s\n",
      "[CV 5/5; 1/2] START n_neighbors=11..............................................\n",
      "[CV 5/5; 1/2] END ...............n_neighbors=11;, score=0.608 total time=  10.5s\n",
      "[CV 1/5; 2/2] START n_neighbors=13..............................................\n",
      "[CV 1/5; 2/2] END ...............n_neighbors=13;, score=0.602 total time=  10.4s\n",
      "[CV 2/5; 2/2] START n_neighbors=13..............................................\n",
      "[CV 2/5; 2/2] END ...............n_neighbors=13;, score=0.598 total time=  10.4s\n",
      "[CV 3/5; 2/2] START n_neighbors=13..............................................\n",
      "[CV 3/5; 2/2] END ...............n_neighbors=13;, score=0.604 total time=  10.5s\n",
      "[CV 4/5; 2/2] START n_neighbors=13..............................................\n",
      "[CV 4/5; 2/2] END ...............n_neighbors=13;, score=0.601 total time=  10.4s\n",
      "[CV 5/5; 2/2] START n_neighbors=13..............................................\n",
      "[CV 5/5; 2/2] END ...............n_neighbors=13;, score=0.599 total time=  10.4s\n",
      "tuned hpyerparameters :(best parameters)  {'n_neighbors': 11}\n",
      "accuracy : 0.6077733874412924\n",
      "Test Accuracy: 0.5438267107549178\n"
     ]
    }
   ],
   "source": [
    "## k-Nearest Neighbor Classifier\n",
    "#kNN_clf = KNeighborsClassifier(n_neighbors=3)\n",
    "#kNN_clf.fit(X_train,y_train)\n",
    "\n",
    "#Check Accuracy\n",
    "#train_acc = check_accuracy(X_train,y_train,kNN_clf)\n",
    "#test_acc = check_accuracy(X_test,y_test,kNN_clf)\n",
    "#print(\"Train Acc:\",train_acc)\n",
    "#print(\"Val Acc:\",test_acc)\n",
    "\n",
    "#Hyperparameter Tuning Grid Search\n",
    "#default : cv=5\n",
    "#kNN_grids = {'n_neighbors':(3,7,11),'p':(1,2)}\n",
    "\n",
    "kNN_grids = {'n_neighbors':(11,13)}\n",
    "kNN_clf = KNeighborsClassifier()\n",
    "kNN_Grid_Search = GridSearchCV(kNN_clf, kNN_grids, verbose=10)\n",
    "kNN_Grid_Search.fit(Xsubtrain,ysubtrain)\n",
    "\n",
    "best_kNN_parameters = kNN_Grid_Search.best_params_ \n",
    "print(\"tuned hpyerparameters :(best parameters) \",best_kNN_parameters)\n",
    "print(\"accuracy :\",kNN_Grid_Search.best_score_)\n",
    "\n",
    "best_kNN_test_acc = check_accuracy(X_test,y_test,kNN_Grid_Search)\n",
    "print(\"Test Accuracy:\",best_kNN_test_acc)"
   ]
  },
  {
   "cell_type": "code",
   "execution_count": 57,
   "metadata": {},
   "outputs": [
    {
     "name": "stdout",
     "output_type": "stream",
     "text": [
      "Best kNN Model:\n",
      " KNeighborsClassifier(n_neighbors=11)\n"
     ]
    }
   ],
   "source": [
    "#Save Best kNN Model \n",
    "# best k=7\n",
    "best_neighbor  = best_kNN_parameters['n_neighbors']\n",
    "best_kNN_model = kNN_Grid_Search.best_estimator_\n",
    "print(\"Best kNN Model:\\n\",best_kNN_model)"
   ]
  },
  {
   "cell_type": "markdown",
   "metadata": {},
   "source": [
    "# Logistic Regression Classifier"
   ]
  },
  {
   "cell_type": "code",
   "execution_count": 58,
   "metadata": {},
   "outputs": [
    {
     "name": "stdout",
     "output_type": "stream",
     "text": [
      "Fitting 5 folds for each of 9 candidates, totalling 45 fits\n",
      "[CV 1/5; 1/9] START C=0.0001, penalty=l2........................................\n",
      "[CV 1/5; 1/9] END .........C=0.0001, penalty=l2;, score=0.522 total time=   0.1s\n",
      "[CV 2/5; 1/9] START C=0.0001, penalty=l2........................................\n",
      "[CV 2/5; 1/9] END .........C=0.0001, penalty=l2;, score=0.517 total time=   0.2s\n",
      "[CV 3/5; 1/9] START C=0.0001, penalty=l2........................................\n",
      "[CV 3/5; 1/9] END .........C=0.0001, penalty=l2;, score=0.521 total time=   0.2s\n",
      "[CV 4/5; 1/9] START C=0.0001, penalty=l2........................................\n",
      "[CV 4/5; 1/9] END .........C=0.0001, penalty=l2;, score=0.520 total time=   0.1s\n",
      "[CV 5/5; 1/9] START C=0.0001, penalty=l2........................................\n",
      "[CV 5/5; 1/9] END .........C=0.0001, penalty=l2;, score=0.519 total time=   0.2s\n",
      "[CV 1/5; 2/9] START C=0.001, penalty=l2.........................................\n",
      "[CV 1/5; 2/9] END ..........C=0.001, penalty=l2;, score=0.523 total time=   0.2s\n",
      "[CV 2/5; 2/9] START C=0.001, penalty=l2.........................................\n",
      "[CV 2/5; 2/9] END ..........C=0.001, penalty=l2;, score=0.518 total time=   0.2s\n",
      "[CV 3/5; 2/9] START C=0.001, penalty=l2.........................................\n",
      "[CV 3/5; 2/9] END ..........C=0.001, penalty=l2;, score=0.521 total time=   0.2s\n",
      "[CV 4/5; 2/9] START C=0.001, penalty=l2.........................................\n",
      "[CV 4/5; 2/9] END ..........C=0.001, penalty=l2;, score=0.517 total time=   0.2s\n",
      "[CV 5/5; 2/9] START C=0.001, penalty=l2.........................................\n",
      "[CV 5/5; 2/9] END ..........C=0.001, penalty=l2;, score=0.518 total time=   0.2s\n",
      "[CV 1/5; 3/9] START C=0.01, penalty=l2..........................................\n",
      "[CV 1/5; 3/9] END ...........C=0.01, penalty=l2;, score=0.522 total time=   0.2s\n",
      "[CV 2/5; 3/9] START C=0.01, penalty=l2..........................................\n",
      "[CV 2/5; 3/9] END ...........C=0.01, penalty=l2;, score=0.518 total time=   0.2s\n",
      "[CV 3/5; 3/9] START C=0.01, penalty=l2..........................................\n",
      "[CV 3/5; 3/9] END ...........C=0.01, penalty=l2;, score=0.522 total time=   0.2s\n",
      "[CV 4/5; 3/9] START C=0.01, penalty=l2..........................................\n",
      "[CV 4/5; 3/9] END ...........C=0.01, penalty=l2;, score=0.518 total time=   0.2s\n",
      "[CV 5/5; 3/9] START C=0.01, penalty=l2..........................................\n",
      "[CV 5/5; 3/9] END ...........C=0.01, penalty=l2;, score=0.517 total time=   0.2s\n",
      "[CV 1/5; 4/9] START C=0.1, penalty=l2...........................................\n",
      "[CV 1/5; 4/9] END ............C=0.1, penalty=l2;, score=0.522 total time=   0.1s\n",
      "[CV 2/5; 4/9] START C=0.1, penalty=l2...........................................\n",
      "[CV 2/5; 4/9] END ............C=0.1, penalty=l2;, score=0.518 total time=   0.2s\n",
      "[CV 3/5; 4/9] START C=0.1, penalty=l2...........................................\n",
      "[CV 3/5; 4/9] END ............C=0.1, penalty=l2;, score=0.522 total time=   0.1s\n",
      "[CV 4/5; 4/9] START C=0.1, penalty=l2...........................................\n",
      "[CV 4/5; 4/9] END ............C=0.1, penalty=l2;, score=0.518 total time=   0.2s\n",
      "[CV 5/5; 4/9] START C=0.1, penalty=l2...........................................\n",
      "[CV 5/5; 4/9] END ............C=0.1, penalty=l2;, score=0.517 total time=   0.2s\n",
      "[CV 1/5; 5/9] START C=1.0, penalty=l2...........................................\n",
      "[CV 1/5; 5/9] END ............C=1.0, penalty=l2;, score=0.522 total time=   0.1s\n",
      "[CV 2/5; 5/9] START C=1.0, penalty=l2...........................................\n",
      "[CV 2/5; 5/9] END ............C=1.0, penalty=l2;, score=0.518 total time=   0.1s\n",
      "[CV 3/5; 5/9] START C=1.0, penalty=l2...........................................\n",
      "[CV 3/5; 5/9] END ............C=1.0, penalty=l2;, score=0.522 total time=   0.1s\n",
      "[CV 4/5; 5/9] START C=1.0, penalty=l2...........................................\n",
      "[CV 4/5; 5/9] END ............C=1.0, penalty=l2;, score=0.518 total time=   0.1s\n",
      "[CV 5/5; 5/9] START C=1.0, penalty=l2...........................................\n",
      "[CV 5/5; 5/9] END ............C=1.0, penalty=l2;, score=0.517 total time=   0.1s\n",
      "[CV 1/5; 6/9] START C=10.0, penalty=l2..........................................\n",
      "[CV 1/5; 6/9] END ...........C=10.0, penalty=l2;, score=0.522 total time=   0.1s\n",
      "[CV 2/5; 6/9] START C=10.0, penalty=l2..........................................\n",
      "[CV 2/5; 6/9] END ...........C=10.0, penalty=l2;, score=0.518 total time=   0.1s\n",
      "[CV 3/5; 6/9] START C=10.0, penalty=l2..........................................\n",
      "[CV 3/5; 6/9] END ...........C=10.0, penalty=l2;, score=0.522 total time=   0.1s\n",
      "[CV 4/5; 6/9] START C=10.0, penalty=l2..........................................\n",
      "[CV 4/5; 6/9] END ...........C=10.0, penalty=l2;, score=0.518 total time=   0.2s\n",
      "[CV 5/5; 6/9] START C=10.0, penalty=l2..........................................\n",
      "[CV 5/5; 6/9] END ...........C=10.0, penalty=l2;, score=0.517 total time=   0.2s\n",
      "[CV 1/5; 7/9] START C=100.0, penalty=l2.........................................\n",
      "[CV 1/5; 7/9] END ..........C=100.0, penalty=l2;, score=0.522 total time=   0.1s\n",
      "[CV 2/5; 7/9] START C=100.0, penalty=l2.........................................\n",
      "[CV 2/5; 7/9] END ..........C=100.0, penalty=l2;, score=0.518 total time=   0.1s\n",
      "[CV 3/5; 7/9] START C=100.0, penalty=l2.........................................\n",
      "[CV 3/5; 7/9] END ..........C=100.0, penalty=l2;, score=0.522 total time=   0.1s\n",
      "[CV 4/5; 7/9] START C=100.0, penalty=l2.........................................\n",
      "[CV 4/5; 7/9] END ..........C=100.0, penalty=l2;, score=0.518 total time=   0.2s\n",
      "[CV 5/5; 7/9] START C=100.0, penalty=l2.........................................\n",
      "[CV 5/5; 7/9] END ..........C=100.0, penalty=l2;, score=0.517 total time=   0.1s\n",
      "[CV 1/5; 8/9] START C=1000.0, penalty=l2........................................\n",
      "[CV 1/5; 8/9] END .........C=1000.0, penalty=l2;, score=0.522 total time=   0.1s\n",
      "[CV 2/5; 8/9] START C=1000.0, penalty=l2........................................\n",
      "[CV 2/5; 8/9] END .........C=1000.0, penalty=l2;, score=0.518 total time=   0.1s\n",
      "[CV 3/5; 8/9] START C=1000.0, penalty=l2........................................\n",
      "[CV 3/5; 8/9] END .........C=1000.0, penalty=l2;, score=0.522 total time=   0.1s\n",
      "[CV 4/5; 8/9] START C=1000.0, penalty=l2........................................\n",
      "[CV 4/5; 8/9] END .........C=1000.0, penalty=l2;, score=0.518 total time=   0.1s\n",
      "[CV 5/5; 8/9] START C=1000.0, penalty=l2........................................\n",
      "[CV 5/5; 8/9] END .........C=1000.0, penalty=l2;, score=0.517 total time=   0.2s\n",
      "[CV 1/5; 9/9] START C=10000.0, penalty=l2.......................................\n",
      "[CV 1/5; 9/9] END ........C=10000.0, penalty=l2;, score=0.522 total time=   0.1s\n",
      "[CV 2/5; 9/9] START C=10000.0, penalty=l2.......................................\n",
      "[CV 2/5; 9/9] END ........C=10000.0, penalty=l2;, score=0.518 total time=   0.1s\n",
      "[CV 3/5; 9/9] START C=10000.0, penalty=l2.......................................\n",
      "[CV 3/5; 9/9] END ........C=10000.0, penalty=l2;, score=0.522 total time=   0.1s\n",
      "[CV 4/5; 9/9] START C=10000.0, penalty=l2.......................................\n",
      "[CV 4/5; 9/9] END ........C=10000.0, penalty=l2;, score=0.518 total time=   0.1s\n",
      "[CV 5/5; 9/9] START C=10000.0, penalty=l2.......................................\n",
      "[CV 5/5; 9/9] END ........C=10000.0, penalty=l2;, score=0.517 total time=   0.1s\n",
      "tuned hpyerparameters :(best parameters)  {'C': 0.0001, 'penalty': 'l2'}\n",
      "accuracy : 0.5198116880775295\n",
      "Test Accuracy: 0.5117693213024715\n"
     ]
    }
   ],
   "source": [
    "#Logistic Regression Classifier\n",
    "logreg_grids ={\"C\":np.logspace(-4,4,9), \"penalty\":[\"l2\"]}\n",
    "\n",
    "logreg = LogisticRegression(solver='lbfgs', multi_class='ovr')\n",
    "logreg_Grid_Search=GridSearchCV(logreg, logreg_grids, verbose=10)\n",
    "logreg_Grid_Search.fit(Xsubtrain,ysubtrain)\n",
    "\n",
    "best_logreg_parameters = logreg_Grid_Search.best_params_\n",
    "print(\"tuned hpyerparameters :(best parameters) \",best_logreg_parameters)\n",
    "print(\"accuracy :\",logreg_Grid_Search.best_score_)\n",
    "\n",
    "best_logreg_test_acc = check_accuracy(X_test,y_test,logreg_Grid_Search)\n",
    "print(\"Test Accuracy:\",best_logreg_test_acc)"
   ]
  },
  {
   "cell_type": "code",
   "execution_count": 59,
   "metadata": {},
   "outputs": [
    {
     "name": "stdout",
     "output_type": "stream",
     "text": [
      "Best Logistic Regression Model:\n",
      " LogisticRegression(C=0.0001, multi_class='ovr')\n"
     ]
    }
   ],
   "source": [
    "#Save Best logit Regression Model\n",
    "best_C  = best_logreg_parameters['C']\n",
    "best_penalty   = best_logreg_parameters['penalty']\n",
    "\n",
    "best_logreg_model = logreg_Grid_Search.best_estimator_\n",
    "print(\"Best Logistic Regression Model:\\n\",best_logreg_model)"
   ]
  },
  {
   "cell_type": "markdown",
   "metadata": {},
   "source": [
    "# Random Forest Classifier"
   ]
  },
  {
   "cell_type": "code",
   "execution_count": null,
   "metadata": {},
   "outputs": [
    {
     "name": "stdout",
     "output_type": "stream",
     "text": [
      "Fitting 5 folds for each of 1 candidates, totalling 5 fits\n",
      "[CV 1/5; 1/1] START criterion=gini, max_features=30, n_estimators=70............\n"
     ]
    }
   ],
   "source": [
    "#Random Forest Classifier\n",
    "#Use while grid search\n",
    "#rf_grids = {'criterion': ['gini'], 'n_estimators' : list(range(10,81,20)),\n",
    "#    'max_features' : list(range(10,34,4))}\n",
    "\n",
    "rf_grids = {'criterion': ['gini'], 'n_estimators' : [70],\n",
    "    'max_features' : [30]}\n",
    "random_forest_clf = RandomForestClassifier()\n",
    "random_forest_Grid_Search = GridSearchCV(random_forest_clf, rf_grids, verbose=10)\n",
    "random_forest_Grid_Search.fit(Xsubtrain,ysubtrain)\n",
    "\n",
    "best_random_forest_parameters = random_forest_Grid_Search.best_params_ \n",
    "print(\"tuned hpyerparameters :(best parameters) \",best_random_forest_parameters)\n",
    "print(\"accuracy :\",random_forest_Grid_Search.best_score_)\n",
    "\n",
    "best_rf_test_acc = check_accuracy(X_test,y_test,random_forest_Grid_Search)\n",
    "print(\"Test Accuracy:\",best_rf_test_acc)"
   ]
  },
  {
   "cell_type": "code",
   "execution_count": null,
   "metadata": {},
   "outputs": [],
   "source": [
    "#Set Best Random Forest Model\n",
    "#best_random_forest_parameters = {'criterion': ['gini'], 'n_estimators' : 20,'max_features' : 20}\n",
    "\n",
    "best_criterion = best_random_forest_parameters['criterion']\n",
    "best_num_estimators = best_random_forest_parameters['n_estimators']\n",
    "best_max_features = best_random_forest_parameters['max_features']\n",
    "\n",
    "best_rf_model = random_forest_Grid_Search.best_estimator_\n",
    "print(\"Best Random Forest Model:\\n\",best_rf_model)"
   ]
  },
  {
   "cell_type": "markdown",
   "metadata": {},
   "source": [
    "# Neural Network Classifier"
   ]
  },
  {
   "cell_type": "code",
   "execution_count": null,
   "metadata": {},
   "outputs": [],
   "source": [
    "#Neural Network Classifier\n",
    "#default solver:adam\n",
    "#default activation:ReLU\n",
    "#default batch_size=min(200, n_samples) (30,20,10),(20,20,20),(20,20)\n",
    "#nn_grids = {'hidden_layer_sizes': [(40,30,20,10),(30,20,10),(30,30),(20,20)],\n",
    "#            'alpha': 10.0 ** -np.arange(1,6),\n",
    "#            'learning_rate_init': 10.0 ** -np.arange(1,4)\n",
    "#         }\n",
    "\n",
    "nn_grids = {'hidden_layer_sizes': [(30,20,10),(30,30)],\n",
    "            'alpha': 10.0 ** -np.arange(2,5),\n",
    "            'learning_rate_init': 10.0 ** -np.arange(1,3)\n",
    "            }\n",
    "nn_clf = MLPClassifier()\n",
    "neural_network_Grid_Search = GridSearchCV(nn_clf, nn_grids, verbose=5)\n",
    "neural_network_Grid_Search.fit(Xsubtrain,ysubtrain)\n",
    "\n",
    "best_nn_parameters = neural_network_Grid_Search.best_params_ \n",
    "print(\"tuned hpyerparameters :(best parameters) \",best_nn_parameters)\n",
    "print(\"accuracy :\",neural_network_Grid_Search.best_score_)\n",
    "\n",
    "best_nn_test_acc = check_accuracy(X_test,y_test,neural_network_Grid_Search.best_estimator_)\n",
    "print(\"Test Accuracy:\",best_nn_test_acc)"
   ]
  },
  {
   "cell_type": "code",
   "execution_count": null,
   "metadata": {},
   "outputs": [],
   "source": [
    "#Save Best Neural Network Model\n",
    "\n",
    "best_hidden_size = best_nn_parameters['hidden_layer_sizes']\n",
    "best_alpha = best_nn_parameters['alpha']\n",
    "best_lr = best_nn_parameters['learning_rate_init']\n",
    "\n",
    "best_nn_model = neural_network_Grid_Search.best_estimator_\n",
    "print(\"Best Random Forest Model:\\n\",best_nn_model)"
   ]
  },
  {
   "cell_type": "markdown",
   "metadata": {},
   "source": [
    "# SVM Kernel classifiers"
   ]
  },
  {
   "cell_type": "code",
   "execution_count": null,
   "metadata": {},
   "outputs": [],
   "source": [
    "#Support Vector Machine Classifier\n",
    "#gamma taken auto to reduce time complexity\n",
    "svm_grids = {'C':np.logspace(0,2,5), \n",
    "             'kernel':['rbf']\n",
    "             #'gamma' :[1, 0.1, 0.01, 0.001]\n",
    "            }\n",
    "\n",
    "support_vector_clf = SVC()\n",
    "svm_Grid_Search = GridSearchCV(support_vector_clf, svm_grids, verbose=10)\n",
    "svm_Grid_Search.fit(Xsubtrain,ysubtrain)\n",
    "\n",
    "best_svm_parameters = svm_Grid_Search.best_params_ \n",
    "print(\"tuned hpyerparameters :(best parameters) \",best_svm_parameters)\n",
    "print(\"accuracy :\",svm_Grid_Search.best_score_)\n",
    "\n",
    "best_svm_test_acc = check_accuracy(X_test,y_test,svm_Grid_Search)\n",
    "print(\"Test Accuracy:\",best_svm_test_acc)"
   ]
  },
  {
   "cell_type": "code",
   "execution_count": null,
   "metadata": {},
   "outputs": [],
   "source": [
    "#Save Best SVM Model\n",
    "best_C = best_svm_parameters['C']\n",
    "best_kernel = best_svm_parameters['kernel']\n",
    "\n",
    "best_svm_model = svm_Grid_Search.best_estimator_\n",
    "print(\"Best SVM Model:\\n\",best_svm_model)"
   ]
  },
  {
   "cell_type": "markdown",
   "metadata": {},
   "source": [
    "# Combining Multiple Learners"
   ]
  },
  {
   "cell_type": "code",
   "execution_count": null,
   "metadata": {},
   "outputs": [],
   "source": [
    "from sklearn.ensemble import VotingClassifier\n",
    "from statistics import mode"
   ]
  },
  {
   "cell_type": "code",
   "execution_count": null,
   "metadata": {},
   "outputs": [],
   "source": [
    "#Ensemble Learner\n",
    "#Choose best k classifiers\n",
    "#Settings\n",
    "k = 6\n",
    "\n",
    "y_preds = pd.DataFrame()\n",
    "estimators={'nn3_torch':best_nn3_torch_model, 'kNN': best_kNN_model, 'logreg': best_logreg_model, 'rf': best_rf_model, 'nn': best_nn_model, 'svm': best_svm_model}\n",
    "clf_labels  = ['nn3_torch','kNN','logreg','rf','nn','svm']\n",
    "best_acc = [best_nn3_torch_test_acc, best_kNN_test_acc, best_logreg_test_acc, best_rf_test_acc, best_nn_test_acc, best_svm_test_acc]\n",
    "top_index = np.argpartition(best_acc,-k)[-k:]\n",
    "\n",
    "print(best_acc)\n",
    "print(top_index)\n",
    "\n",
    "for k in top_index:\n",
    "    if k==0:\n",
    "        temp = estimators['nn3_torch'](X_test_tensor).detach().numpy()\n",
    "        y_preds['nn3_torch'] = temp.reshape((-1,))\n",
    "    else:\n",
    "        temp = estimators[clf_labels[k]]\n",
    "        print(temp)\n",
    "        y_preds[clf_labels[k]] = temp.predict(X_test)\n",
    "\n",
    "y_final_pred = y_preds.mode(axis=1)[0].to_numpy()\n",
    "final_ensemble_accuracy = sum(y_final_pred == y_test) / num_test\n",
    "\n",
    "print('Final Test Accuracy of Ensemble Predictors:', 100 * final_ensemble_accuracy)\n",
    "\n",
    "best_accs = np.append(best_acc,final_ensemble_accuracy)\n",
    "clf_labels = np.append(clf_labels,'ensemble')\n",
    "plt.bar(clf_labels,best_accs)"
   ]
  }
 ],
 "metadata": {
  "kernelspec": {
   "display_name": "Python 3 (ipykernel)",
   "language": "python",
   "name": "python3"
  },
  "language_info": {
   "codemirror_mode": {
    "name": "ipython",
    "version": 3
   },
   "file_extension": ".py",
   "mimetype": "text/x-python",
   "name": "python",
   "nbconvert_exporter": "python",
   "pygments_lexer": "ipython3",
   "version": "3.9.12"
  }
 },
 "nbformat": 4,
 "nbformat_minor": 4
}
